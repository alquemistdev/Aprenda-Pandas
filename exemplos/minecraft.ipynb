{
 "cells": [
  {
   "cell_type": "code",
   "execution_count": 1,
   "metadata": {},
   "outputs": [],
   "source": [
    "import pandas as pd"
   ]
  },
  {
   "cell_type": "code",
   "execution_count": 5,
   "metadata": {},
   "outputs": [
    {
     "data": {
      "text/html": [
       "<div>\n",
       "<style scoped>\n",
       "    .dataframe tbody tr th:only-of-type {\n",
       "        vertical-align: middle;\n",
       "    }\n",
       "\n",
       "    .dataframe tbody tr th {\n",
       "        vertical-align: top;\n",
       "    }\n",
       "\n",
       "    .dataframe thead th {\n",
       "        text-align: right;\n",
       "    }\n",
       "</style>\n",
       "<table border=\"1\" class=\"dataframe\">\n",
       "  <thead>\n",
       "    <tr style=\"text-align: right;\">\n",
       "      <th></th>\n",
       "      <th>Unnamed: 0</th>\n",
       "      <th>age</th>\n",
       "      <th>discordid</th>\n",
       "      <th>minecraftid</th>\n",
       "      <th>client</th>\n",
       "      <th>version</th>\n",
       "    </tr>\n",
       "  </thead>\n",
       "  <tbody>\n",
       "    <tr>\n",
       "      <th>0</th>\n",
       "      <td>0</td>\n",
       "      <td>14.0</td>\n",
       "      <td>ProGamer300#3331</td>\n",
       "      <td>ProGamer300</td>\n",
       "      <td>Computer ( Java Edition )</td>\n",
       "      <td>Cracked</td>\n",
       "    </tr>\n",
       "    <tr>\n",
       "      <th>1</th>\n",
       "      <td>1</td>\n",
       "      <td>19.0</td>\n",
       "      <td>@shrey#4934</td>\n",
       "      <td>shrey_jain_</td>\n",
       "      <td>Computer ( Java Edition )</td>\n",
       "      <td>Cracked</td>\n",
       "    </tr>\n",
       "    <tr>\n",
       "      <th>2</th>\n",
       "      <td>2</td>\n",
       "      <td>18.0</td>\n",
       "      <td>Skullfaced#8657</td>\n",
       "      <td>Skullfaceddeath</td>\n",
       "      <td>Computer ( Java Edition )</td>\n",
       "      <td>Paid Version</td>\n",
       "    </tr>\n",
       "    <tr>\n",
       "      <th>3</th>\n",
       "      <td>3</td>\n",
       "      <td>17.0</td>\n",
       "      <td>Op DzGhOsT#8719</td>\n",
       "      <td>DzGHoST1737</td>\n",
       "      <td>Computer ( Java Edition )</td>\n",
       "      <td>Cracked</td>\n",
       "    </tr>\n",
       "    <tr>\n",
       "      <th>4</th>\n",
       "      <td>4</td>\n",
       "      <td>15.0</td>\n",
       "      <td>Dwijesh#6020</td>\n",
       "      <td>Dwijesh YT</td>\n",
       "      <td>Mobile ( bedrock version )</td>\n",
       "      <td>Paid Version</td>\n",
       "    </tr>\n",
       "  </tbody>\n",
       "</table>\n",
       "</div>"
      ],
      "text/plain": [
       "   Unnamed: 0   age         discordid      minecraftid   \n",
       "0           0  14.0  ProGamer300#3331     ProGamer300   \\\n",
       "1           1  19.0       @shrey#4934      shrey_jain_   \n",
       "2           2  18.0   Skullfaced#8657  Skullfaceddeath   \n",
       "3           3  17.0  Op DzGhOsT#8719      DzGHoST1737    \n",
       "4           4  15.0      Dwijesh#6020       Dwijesh YT   \n",
       "\n",
       "                       client       version  \n",
       "0   Computer ( Java Edition )       Cracked  \n",
       "1   Computer ( Java Edition )       Cracked  \n",
       "2   Computer ( Java Edition )  Paid Version  \n",
       "3   Computer ( Java Edition )       Cracked  \n",
       "4  Mobile ( bedrock version )  Paid Version  "
      ]
     },
     "execution_count": 5,
     "metadata": {},
     "output_type": "execute_result"
    }
   ],
   "source": [
    "df = pd.read_csv(\"https://raw.githubusercontent.com/alquemistdev/Aprenda-Pandas/main/data/minecraft.csv\", encoding=\"UTF-8\", sep=\",\")\n",
    "df.head()"
   ]
  }
 ],
 "metadata": {
  "kernelspec": {
   "display_name": "env",
   "language": "python",
   "name": "python3"
  },
  "language_info": {
   "codemirror_mode": {
    "name": "ipython",
    "version": 3
   },
   "file_extension": ".py",
   "mimetype": "text/x-python",
   "name": "python",
   "nbconvert_exporter": "python",
   "pygments_lexer": "ipython3",
   "version": "3.11.3"
  },
  "orig_nbformat": 4
 },
 "nbformat": 4,
 "nbformat_minor": 2
}
