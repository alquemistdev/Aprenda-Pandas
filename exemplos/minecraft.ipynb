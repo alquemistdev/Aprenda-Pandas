{
 "cells": [
  {
   "cell_type": "code",
   "execution_count": 20,
   "metadata": {},
   "outputs": [],
   "source": [
    "import pandas as pd"
   ]
  },
  {
   "cell_type": "code",
   "execution_count": 32,
   "metadata": {},
   "outputs": [],
   "source": [
    "# Abrindo o arquivo csv\n",
    "df = pd.read_csv(\"https://raw.githubusercontent.com/alquemistdev/Aprenda-Pandas/main/data/minecraft.csv\",\n",
    "                  encoding=\"UTF-8\")"
   ]
  },
  {
   "cell_type": "code",
   "execution_count": 33,
   "metadata": {},
   "outputs": [],
   "source": [
    "# Especificando o separador do arquivo\n",
    "df = pd.read_csv(\"https://raw.githubusercontent.com/alquemistdev/Aprenda-Pandas/main/data/minecraft.csv\",\n",
    "                  encoding=\"UTF-8\", sep=\",\")"
   ]
  },
  {
   "attachments": {},
   "cell_type": "markdown",
   "metadata": {},
   "source": [
    "# Comandos Extras"
   ]
  },
  {
   "cell_type": "code",
   "execution_count": 23,
   "metadata": {},
   "outputs": [],
   "source": [
    "\n",
    "df = pd.read_csv(\"https://raw.githubusercontent.com/alquemistdev/Aprenda-Pandas/main/data/minecraft.csv\",\n",
    "                  encoding=\"UTF-8\", sep=\",\", header=0)"
   ]
  },
  {
   "cell_type": "code",
   "execution_count": 24,
   "metadata": {},
   "outputs": [],
   "source": [
    "# Especificando as colunas do arquivo\n",
    "df = pd.read_csv(\"https://raw.githubusercontent.com/alquemistdev/Aprenda-Pandas/main/data/minecraft.csv\",\n",
    "                  encoding=\"UTF-8\", sep=\",\", usecols=[\"age\", \"minecraftid\"])"
   ]
  },
  {
   "cell_type": "code",
   "execution_count": 25,
   "metadata": {},
   "outputs": [],
   "source": [
    "# Especificando as linhas do arquivo\n",
    "df = pd.read_csv(\"https://raw.githubusercontent.com/alquemistdev/Aprenda-Pandas/main/data/minecraft.csv\",\n",
    "                  encoding=\"UTF-8\", sep=\",\", nrows=10)"
   ]
  },
  {
   "cell_type": "code",
   "execution_count": 26,
   "metadata": {},
   "outputs": [
    {
     "data": {
      "text/html": [
       "<div>\n",
       "<style scoped>\n",
       "    .dataframe tbody tr th:only-of-type {\n",
       "        vertical-align: middle;\n",
       "    }\n",
       "\n",
       "    .dataframe tbody tr th {\n",
       "        vertical-align: top;\n",
       "    }\n",
       "\n",
       "    .dataframe thead th {\n",
       "        text-align: right;\n",
       "    }\n",
       "</style>\n",
       "<table border=\"1\" class=\"dataframe\">\n",
       "  <thead>\n",
       "    <tr style=\"text-align: right;\">\n",
       "      <th></th>\n",
       "      <th>Unnamed: 0</th>\n",
       "      <th>age</th>\n",
       "      <th>discordid</th>\n",
       "      <th>minecraftid</th>\n",
       "      <th>client</th>\n",
       "      <th>version</th>\n",
       "    </tr>\n",
       "  </thead>\n",
       "  <tbody>\n",
       "    <tr>\n",
       "      <th>0</th>\n",
       "      <td>0</td>\n",
       "      <td>14.0</td>\n",
       "      <td>ProGamer300#3331</td>\n",
       "      <td>ProGamer300</td>\n",
       "      <td>Computer ( Java Edition )</td>\n",
       "      <td>Cracked</td>\n",
       "    </tr>\n",
       "    <tr>\n",
       "      <th>1</th>\n",
       "      <td>1</td>\n",
       "      <td>19.0</td>\n",
       "      <td>@shrey#4934</td>\n",
       "      <td>shrey_jain_</td>\n",
       "      <td>Computer ( Java Edition )</td>\n",
       "      <td>Cracked</td>\n",
       "    </tr>\n",
       "    <tr>\n",
       "      <th>2</th>\n",
       "      <td>2</td>\n",
       "      <td>18.0</td>\n",
       "      <td>Skullfaced#8657</td>\n",
       "      <td>Skullfaceddeath</td>\n",
       "      <td>Computer ( Java Edition )</td>\n",
       "      <td>Paid Version</td>\n",
       "    </tr>\n",
       "    <tr>\n",
       "      <th>3</th>\n",
       "      <td>3</td>\n",
       "      <td>17.0</td>\n",
       "      <td>Op DzGhOsT#8719</td>\n",
       "      <td>DzGHoST1737</td>\n",
       "      <td>Computer ( Java Edition )</td>\n",
       "      <td>Cracked</td>\n",
       "    </tr>\n",
       "    <tr>\n",
       "      <th>4</th>\n",
       "      <td>4</td>\n",
       "      <td>15.0</td>\n",
       "      <td>Dwijesh#6020</td>\n",
       "      <td>Dwijesh YT</td>\n",
       "      <td>Mobile ( bedrock version )</td>\n",
       "      <td>Paid Version</td>\n",
       "    </tr>\n",
       "  </tbody>\n",
       "</table>\n",
       "</div>"
      ],
      "text/plain": [
       "   Unnamed: 0   age         discordid      minecraftid   \n",
       "0           0  14.0  ProGamer300#3331     ProGamer300   \\\n",
       "1           1  19.0       @shrey#4934      shrey_jain_   \n",
       "2           2  18.0   Skullfaced#8657  Skullfaceddeath   \n",
       "3           3  17.0  Op DzGhOsT#8719      DzGHoST1737    \n",
       "4           4  15.0      Dwijesh#6020       Dwijesh YT   \n",
       "\n",
       "                       client       version  \n",
       "0   Computer ( Java Edition )       Cracked  \n",
       "1   Computer ( Java Edition )       Cracked  \n",
       "2   Computer ( Java Edition )  Paid Version  \n",
       "3   Computer ( Java Edition )       Cracked  \n",
       "4  Mobile ( bedrock version )  Paid Version  "
      ]
     },
     "execution_count": 26,
     "metadata": {},
     "output_type": "execute_result"
    }
   ],
   "source": [
    "df.head()"
   ]
  },
  {
   "cell_type": "markdown",
   "metadata": {},
   "source": []
  },
  {
   "attachments": {},
   "cell_type": "markdown",
   "metadata": {},
   "source": [
    "# Selecionando os dados"
   ]
  },
  {
   "cell_type": "code",
   "execution_count": null,
   "metadata": {},
   "outputs": [],
   "source": [
    "df.head()"
   ]
  },
  {
   "cell_type": "code",
   "execution_count": null,
   "metadata": {},
   "outputs": [],
   "source": [
    "# Selecionando uma por índice\n",
    "df['client'].head()"
   ]
  },
  {
   "attachments": {},
   "cell_type": "markdown",
   "metadata": {},
   "source": [
    "df[['age', 'client']].head()"
   ]
  },
  {
   "cell_type": "code",
   "execution_count": null,
   "metadata": {},
   "outputs": [],
   "source": [
    "# Selecionando uma e somente uma por notação de ponto\n",
    "df.client.head()"
   ]
  },
  {
   "cell_type": "code",
   "execution_count": null,
   "metadata": {},
   "outputs": [],
   "source": [
    "# Adicionando nova coluna\n",
    "df['info'] = df['minecraftid'] + \" \" + df['client']\n",
    "df['info'].head()"
   ]
  },
  {
   "attachments": {},
   "cell_type": "markdown",
   "metadata": {},
   "source": [
    "1. Usando loc para selecionar dados, essa forma é como se fosse um vetor de linhas"
   ]
  },
  {
   "cell_type": "code",
   "execution_count": 50,
   "metadata": {},
   "outputs": [
    {
     "data": {
      "text/plain": [
       "Unnamed: 0                                          0\n",
       "age                                              14.0\n",
       "discordid                            ProGamer300#3331\n",
       "minecraftid                              ProGamer300 \n",
       "client                      Computer ( Java Edition )\n",
       "version                                       Cracked\n",
       "info           ProGamer300  Computer ( Java Edition )\n",
       "Name: 0, dtype: object"
      ]
     },
     "execution_count": 50,
     "metadata": {},
     "output_type": "execute_result"
    }
   ],
   "source": [
    "# A primeira\n",
    "df.loc[0]"
   ]
  },
  {
   "cell_type": "code",
   "execution_count": 51,
   "metadata": {},
   "outputs": [
    {
     "data": {
      "text/html": [
       "<div>\n",
       "<style scoped>\n",
       "    .dataframe tbody tr th:only-of-type {\n",
       "        vertical-align: middle;\n",
       "    }\n",
       "\n",
       "    .dataframe tbody tr th {\n",
       "        vertical-align: top;\n",
       "    }\n",
       "\n",
       "    .dataframe thead th {\n",
       "        text-align: right;\n",
       "    }\n",
       "</style>\n",
       "<table border=\"1\" class=\"dataframe\">\n",
       "  <thead>\n",
       "    <tr style=\"text-align: right;\">\n",
       "      <th></th>\n",
       "      <th>Unnamed: 0</th>\n",
       "      <th>age</th>\n",
       "      <th>discordid</th>\n",
       "      <th>minecraftid</th>\n",
       "      <th>client</th>\n",
       "      <th>version</th>\n",
       "      <th>info</th>\n",
       "    </tr>\n",
       "  </thead>\n",
       "  <tbody>\n",
       "    <tr>\n",
       "      <th>0</th>\n",
       "      <td>0</td>\n",
       "      <td>14.0</td>\n",
       "      <td>ProGamer300#3331</td>\n",
       "      <td>ProGamer300</td>\n",
       "      <td>Computer ( Java Edition )</td>\n",
       "      <td>Cracked</td>\n",
       "      <td>ProGamer300  Computer ( Java Edition )</td>\n",
       "    </tr>\n",
       "    <tr>\n",
       "      <th>1</th>\n",
       "      <td>1</td>\n",
       "      <td>19.0</td>\n",
       "      <td>@shrey#4934</td>\n",
       "      <td>shrey_jain_</td>\n",
       "      <td>Computer ( Java Edition )</td>\n",
       "      <td>Cracked</td>\n",
       "      <td>shrey_jain_ Computer ( Java Edition )</td>\n",
       "    </tr>\n",
       "    <tr>\n",
       "      <th>2</th>\n",
       "      <td>2</td>\n",
       "      <td>18.0</td>\n",
       "      <td>Skullfaced#8657</td>\n",
       "      <td>Skullfaceddeath</td>\n",
       "      <td>Computer ( Java Edition )</td>\n",
       "      <td>Paid Version</td>\n",
       "      <td>Skullfaceddeath Computer ( Java Edition )</td>\n",
       "    </tr>\n",
       "    <tr>\n",
       "      <th>3</th>\n",
       "      <td>3</td>\n",
       "      <td>17.0</td>\n",
       "      <td>Op DzGhOsT#8719</td>\n",
       "      <td>DzGHoST1737</td>\n",
       "      <td>Computer ( Java Edition )</td>\n",
       "      <td>Cracked</td>\n",
       "      <td>DzGHoST1737  Computer ( Java Edition )</td>\n",
       "    </tr>\n",
       "  </tbody>\n",
       "</table>\n",
       "</div>"
      ],
      "text/plain": [
       "   Unnamed: 0   age         discordid      minecraftid   \n",
       "0           0  14.0  ProGamer300#3331     ProGamer300   \\\n",
       "1           1  19.0       @shrey#4934      shrey_jain_   \n",
       "2           2  18.0   Skullfaced#8657  Skullfaceddeath   \n",
       "3           3  17.0  Op DzGhOsT#8719      DzGHoST1737    \n",
       "\n",
       "                      client       version   \n",
       "0  Computer ( Java Edition )       Cracked  \\\n",
       "1  Computer ( Java Edition )       Cracked   \n",
       "2  Computer ( Java Edition )  Paid Version   \n",
       "3  Computer ( Java Edition )       Cracked   \n",
       "\n",
       "                                        info  \n",
       "0     ProGamer300  Computer ( Java Edition )  \n",
       "1      shrey_jain_ Computer ( Java Edition )  \n",
       "2  Skullfaceddeath Computer ( Java Edition )  \n",
       "3     DzGHoST1737  Computer ( Java Edition )  "
      ]
     },
     "execution_count": 51,
     "metadata": {},
     "output_type": "execute_result"
    }
   ],
   "source": [
    "# Intervalo\n",
    "df.loc[0:3]"
   ]
  },
  {
   "cell_type": "code",
   "execution_count": 52,
   "metadata": {},
   "outputs": [
    {
     "data": {
      "text/html": [
       "<div>\n",
       "<style scoped>\n",
       "    .dataframe tbody tr th:only-of-type {\n",
       "        vertical-align: middle;\n",
       "    }\n",
       "\n",
       "    .dataframe tbody tr th {\n",
       "        vertical-align: top;\n",
       "    }\n",
       "\n",
       "    .dataframe thead th {\n",
       "        text-align: right;\n",
       "    }\n",
       "</style>\n",
       "<table border=\"1\" class=\"dataframe\">\n",
       "  <thead>\n",
       "    <tr style=\"text-align: right;\">\n",
       "      <th></th>\n",
       "      <th>Unnamed: 0</th>\n",
       "      <th>age</th>\n",
       "      <th>discordid</th>\n",
       "      <th>minecraftid</th>\n",
       "      <th>client</th>\n",
       "      <th>version</th>\n",
       "      <th>info</th>\n",
       "    </tr>\n",
       "  </thead>\n",
       "  <tbody>\n",
       "    <tr>\n",
       "      <th>1</th>\n",
       "      <td>1</td>\n",
       "      <td>19.0</td>\n",
       "      <td>@shrey#4934</td>\n",
       "      <td>shrey_jain_</td>\n",
       "      <td>Computer ( Java Edition )</td>\n",
       "      <td>Cracked</td>\n",
       "      <td>shrey_jain_ Computer ( Java Edition )</td>\n",
       "    </tr>\n",
       "    <tr>\n",
       "      <th>3</th>\n",
       "      <td>3</td>\n",
       "      <td>17.0</td>\n",
       "      <td>Op DzGhOsT#8719</td>\n",
       "      <td>DzGHoST1737</td>\n",
       "      <td>Computer ( Java Edition )</td>\n",
       "      <td>Cracked</td>\n",
       "      <td>DzGHoST1737  Computer ( Java Edition )</td>\n",
       "    </tr>\n",
       "    <tr>\n",
       "      <th>4</th>\n",
       "      <td>4</td>\n",
       "      <td>15.0</td>\n",
       "      <td>Dwijesh#6020</td>\n",
       "      <td>Dwijesh YT</td>\n",
       "      <td>Mobile ( bedrock version )</td>\n",
       "      <td>Paid Version</td>\n",
       "      <td>Dwijesh YT Mobile ( bedrock version )</td>\n",
       "    </tr>\n",
       "  </tbody>\n",
       "</table>\n",
       "</div>"
      ],
      "text/plain": [
       "   Unnamed: 0   age         discordid   minecraftid   \n",
       "1           1  19.0       @shrey#4934   shrey_jain_  \\\n",
       "3           3  17.0  Op DzGhOsT#8719   DzGHoST1737    \n",
       "4           4  15.0      Dwijesh#6020    Dwijesh YT   \n",
       "\n",
       "                       client       version   \n",
       "1   Computer ( Java Edition )       Cracked  \\\n",
       "3   Computer ( Java Edition )       Cracked   \n",
       "4  Mobile ( bedrock version )  Paid Version   \n",
       "\n",
       "                                     info  \n",
       "1   shrey_jain_ Computer ( Java Edition )  \n",
       "3  DzGHoST1737  Computer ( Java Edition )  \n",
       "4   Dwijesh YT Mobile ( bedrock version )  "
      ]
     },
     "execution_count": 52,
     "metadata": {},
     "output_type": "execute_result"
    }
   ],
   "source": [
    "# Selecionando unicas\n",
    "df.loc[[1, 3, 4]]"
   ]
  },
  {
   "cell_type": "code",
   "execution_count": 53,
   "metadata": {},
   "outputs": [
    {
     "data": {
      "text/plain": [
       "1        shrey_jain_\n",
       "2    Skullfaceddeath\n",
       "3       DzGHoST1737 \n",
       "Name: minecraftid, dtype: object"
      ]
     },
     "execution_count": 53,
     "metadata": {},
     "output_type": "execute_result"
    }
   ],
   "source": [
    "# Selecionando intervalo e coluna especifica\n",
    "df.loc[1:3, \"minecraftid\"]"
   ]
  },
  {
   "cell_type": "code",
   "execution_count": 54,
   "metadata": {},
   "outputs": [
    {
     "data": {
      "text/html": [
       "<div>\n",
       "<style scoped>\n",
       "    .dataframe tbody tr th:only-of-type {\n",
       "        vertical-align: middle;\n",
       "    }\n",
       "\n",
       "    .dataframe tbody tr th {\n",
       "        vertical-align: top;\n",
       "    }\n",
       "\n",
       "    .dataframe thead th {\n",
       "        text-align: right;\n",
       "    }\n",
       "</style>\n",
       "<table border=\"1\" class=\"dataframe\">\n",
       "  <thead>\n",
       "    <tr style=\"text-align: right;\">\n",
       "      <th></th>\n",
       "      <th>version</th>\n",
       "      <th>minecraftid</th>\n",
       "    </tr>\n",
       "  </thead>\n",
       "  <tbody>\n",
       "    <tr>\n",
       "      <th>1</th>\n",
       "      <td>Cracked</td>\n",
       "      <td>shrey_jain_</td>\n",
       "    </tr>\n",
       "    <tr>\n",
       "      <th>2</th>\n",
       "      <td>Paid Version</td>\n",
       "      <td>Skullfaceddeath</td>\n",
       "    </tr>\n",
       "    <tr>\n",
       "      <th>3</th>\n",
       "      <td>Cracked</td>\n",
       "      <td>DzGHoST1737</td>\n",
       "    </tr>\n",
       "  </tbody>\n",
       "</table>\n",
       "</div>"
      ],
      "text/plain": [
       "        version      minecraftid\n",
       "1       Cracked      shrey_jain_\n",
       "2  Paid Version  Skullfaceddeath\n",
       "3       Cracked     DzGHoST1737 "
      ]
     },
     "execution_count": 54,
     "metadata": {},
     "output_type": "execute_result"
    }
   ],
   "source": [
    "# Selecionando intervalo e mais de uma coluna especifica\n",
    "df.loc[1:3, [\"version\", \"minecraftid\"]]"
   ]
  },
  {
   "cell_type": "code",
   "execution_count": 59,
   "metadata": {},
   "outputs": [
    {
     "data": {
      "text/html": [
       "<div>\n",
       "<style scoped>\n",
       "    .dataframe tbody tr th:only-of-type {\n",
       "        vertical-align: middle;\n",
       "    }\n",
       "\n",
       "    .dataframe tbody tr th {\n",
       "        vertical-align: top;\n",
       "    }\n",
       "\n",
       "    .dataframe thead th {\n",
       "        text-align: right;\n",
       "    }\n",
       "</style>\n",
       "<table border=\"1\" class=\"dataframe\">\n",
       "  <thead>\n",
       "    <tr style=\"text-align: right;\">\n",
       "      <th></th>\n",
       "      <th>minecraftid</th>\n",
       "      <th>client</th>\n",
       "      <th>version</th>\n",
       "    </tr>\n",
       "  </thead>\n",
       "  <tbody>\n",
       "    <tr>\n",
       "      <th>1</th>\n",
       "      <td>shrey_jain_</td>\n",
       "      <td>Computer ( Java Edition )</td>\n",
       "      <td>Cracked</td>\n",
       "    </tr>\n",
       "    <tr>\n",
       "      <th>2</th>\n",
       "      <td>Skullfaceddeath</td>\n",
       "      <td>Computer ( Java Edition )</td>\n",
       "      <td>Paid Version</td>\n",
       "    </tr>\n",
       "    <tr>\n",
       "      <th>3</th>\n",
       "      <td>DzGHoST1737</td>\n",
       "      <td>Computer ( Java Edition )</td>\n",
       "      <td>Cracked</td>\n",
       "    </tr>\n",
       "  </tbody>\n",
       "</table>\n",
       "</div>"
      ],
      "text/plain": [
       "       minecraftid                     client       version\n",
       "1      shrey_jain_  Computer ( Java Edition )       Cracked\n",
       "2  Skullfaceddeath  Computer ( Java Edition )  Paid Version\n",
       "3     DzGHoST1737   Computer ( Java Edition )       Cracked"
      ]
     },
     "execution_count": 59,
     "metadata": {},
     "output_type": "execute_result"
    }
   ],
   "source": [
    "# Selecionando intervalo e intervalo de colunas\n",
    "df.loc[1:3, \"minecraftid\": \"version\"]"
   ]
  },
  {
   "attachments": {},
   "cell_type": "markdown",
   "metadata": {},
   "source": [
    "2. Usando iloc para selecionar dados, em forma de intervalo"
   ]
  },
  {
   "cell_type": "code",
   "execution_count": 60,
   "metadata": {},
   "outputs": [
    {
     "data": {
      "text/html": [
       "<div>\n",
       "<style scoped>\n",
       "    .dataframe tbody tr th:only-of-type {\n",
       "        vertical-align: middle;\n",
       "    }\n",
       "\n",
       "    .dataframe tbody tr th {\n",
       "        vertical-align: top;\n",
       "    }\n",
       "\n",
       "    .dataframe thead th {\n",
       "        text-align: right;\n",
       "    }\n",
       "</style>\n",
       "<table border=\"1\" class=\"dataframe\">\n",
       "  <thead>\n",
       "    <tr style=\"text-align: right;\">\n",
       "      <th></th>\n",
       "      <th>Unnamed: 0</th>\n",
       "      <th>age</th>\n",
       "      <th>discordid</th>\n",
       "      <th>minecraftid</th>\n",
       "      <th>client</th>\n",
       "      <th>version</th>\n",
       "      <th>info</th>\n",
       "    </tr>\n",
       "  </thead>\n",
       "  <tbody>\n",
       "    <tr>\n",
       "      <th>0</th>\n",
       "      <td>0</td>\n",
       "      <td>14.0</td>\n",
       "      <td>ProGamer300#3331</td>\n",
       "      <td>ProGamer300</td>\n",
       "      <td>Computer ( Java Edition )</td>\n",
       "      <td>Cracked</td>\n",
       "      <td>ProGamer300  Computer ( Java Edition )</td>\n",
       "    </tr>\n",
       "    <tr>\n",
       "      <th>1</th>\n",
       "      <td>1</td>\n",
       "      <td>19.0</td>\n",
       "      <td>@shrey#4934</td>\n",
       "      <td>shrey_jain_</td>\n",
       "      <td>Computer ( Java Edition )</td>\n",
       "      <td>Cracked</td>\n",
       "      <td>shrey_jain_ Computer ( Java Edition )</td>\n",
       "    </tr>\n",
       "  </tbody>\n",
       "</table>\n",
       "</div>"
      ],
      "text/plain": [
       "   Unnamed: 0   age         discordid   minecraftid   \n",
       "0           0  14.0  ProGamer300#3331  ProGamer300   \\\n",
       "1           1  19.0       @shrey#4934   shrey_jain_   \n",
       "\n",
       "                      client  version                                    info  \n",
       "0  Computer ( Java Edition )  Cracked  ProGamer300  Computer ( Java Edition )  \n",
       "1  Computer ( Java Edition )  Cracked   shrey_jain_ Computer ( Java Edition )  "
      ]
     },
     "execution_count": 60,
     "metadata": {},
     "output_type": "execute_result"
    }
   ],
   "source": [
    "# Selecionado dois dados do 0 ao 1\n",
    "df.iloc[0:2]"
   ]
  },
  {
   "cell_type": "code",
   "execution_count": 62,
   "metadata": {},
   "outputs": [
    {
     "data": {
      "text/html": [
       "<div>\n",
       "<style scoped>\n",
       "    .dataframe tbody tr th:only-of-type {\n",
       "        vertical-align: middle;\n",
       "    }\n",
       "\n",
       "    .dataframe tbody tr th {\n",
       "        vertical-align: top;\n",
       "    }\n",
       "\n",
       "    .dataframe thead th {\n",
       "        text-align: right;\n",
       "    }\n",
       "</style>\n",
       "<table border=\"1\" class=\"dataframe\">\n",
       "  <thead>\n",
       "    <tr style=\"text-align: right;\">\n",
       "      <th></th>\n",
       "      <th>Unnamed: 0</th>\n",
       "      <th>age</th>\n",
       "    </tr>\n",
       "  </thead>\n",
       "  <tbody>\n",
       "    <tr>\n",
       "      <th>0</th>\n",
       "      <td>0</td>\n",
       "      <td>14.0</td>\n",
       "    </tr>\n",
       "    <tr>\n",
       "      <th>1</th>\n",
       "      <td>1</td>\n",
       "      <td>19.0</td>\n",
       "    </tr>\n",
       "  </tbody>\n",
       "</table>\n",
       "</div>"
      ],
      "text/plain": [
       "   Unnamed: 0   age\n",
       "0           0  14.0\n",
       "1           1  19.0"
      ]
     },
     "execution_count": 62,
     "metadata": {},
     "output_type": "execute_result"
    }
   ],
   "source": [
    "# Selecionado dois dados do 0 ao 1, da coluna 0 a 1\n",
    "df.iloc[0:2, 0:2]"
   ]
  },
  {
   "cell_type": "code",
   "execution_count": null,
   "metadata": {},
   "outputs": [],
   "source": []
  }
 ],
 "metadata": {
  "kernelspec": {
   "display_name": "env",
   "language": "python",
   "name": "python3"
  },
  "language_info": {
   "codemirror_mode": {
    "name": "ipython",
    "version": 3
   },
   "file_extension": ".py",
   "mimetype": "text/x-python",
   "name": "python",
   "nbconvert_exporter": "python",
   "pygments_lexer": "ipython3",
   "version": "3.11.3"
  },
  "orig_nbformat": 4
 },
 "nbformat": 4,
 "nbformat_minor": 2
}
